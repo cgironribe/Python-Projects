{
 "cells": [
  {
   "cell_type": "code",
   "execution_count": 2,
   "id": "d9194840",
   "metadata": {},
   "outputs": [
    {
     "name": "stdout",
     "output_type": "stream",
     "text": [
      "Collecting captcha\n",
      "  Obtaining dependency information for captcha from https://files.pythonhosted.org/packages/e6/ff/5b2abf00f09e56ffae3bfa4cdc85873ac9c59ee13603542214e948a10d2f/captcha-0.5.0-py3-none-any.whl.metadata\n",
      "  Downloading captcha-0.5.0-py3-none-any.whl.metadata (2.1 kB)\n",
      "Requirement already satisfied: Pillow in c:\\users\\carla\\anaconda3\\lib\\site-packages (from captcha) (9.4.0)\n",
      "Downloading captcha-0.5.0-py3-none-any.whl (102 kB)\n",
      "   ---------------------------------------- 0.0/102.2 kB ? eta -:--:--\n",
      "   ---- ----------------------------------- 10.2/102.2 kB ? eta -:--:--\n",
      "   ------------------------ --------------- 61.4/102.2 kB 1.1 MB/s eta 0:00:01\n",
      "   ---------------------------------------- 102.2/102.2 kB 1.5 MB/s eta 0:00:00\n",
      "Installing collected packages: captcha\n",
      "Successfully installed captcha-0.5.0\n",
      "Note: you may need to restart the kernel to use updated packages.\n"
     ]
    }
   ],
   "source": [
    "pip install captcha"
   ]
  },
  {
   "cell_type": "code",
   "execution_count": 5,
   "id": "171aadec",
   "metadata": {},
   "outputs": [
    {
     "name": "stdout",
     "output_type": "stream",
     "text": [
      "CAPTCHA text: HvdHxJ\n"
     ]
    }
   ],
   "source": [
    "from captcha.image import ImageCaptcha\n",
    "from PIL import Image\n",
    "\n",
    "def generate_captcha_text(length=6):\n",
    "    import string\n",
    "    import random\n",
    "    return ''.join(random.choices(string.ascii_letters + string.digits, k=length))\n",
    "\n",
    "def generate_and_save_captcha(image_width=300, image_height=100, captcha_length=6, save_path='CAPTCHA.png'):\n",
    "    image = ImageCaptcha(width=image_width, height=image_height)\n",
    "    captcha_text = generate_captcha_text(captcha_length)\n",
    "    data = image.generate(captcha_text)\n",
    "    image.write(captcha_text, save_path)\n",
    "    return captcha_text\n",
    "\n",
    "if __name__ == \"__main__\":\n",
    "    captcha_text = generate_and_save_captcha()\n",
    "    print(\"CAPTCHA text:\", captcha_text)\n",
    "    Image.open('CAPTCHA.png').show()\n"
   ]
  },
  {
   "cell_type": "code",
   "execution_count": null,
   "id": "8033c2f4",
   "metadata": {},
   "outputs": [],
   "source": []
  }
 ],
 "metadata": {
  "kernelspec": {
   "display_name": "Python 3 (ipykernel)",
   "language": "python",
   "name": "python3"
  },
  "language_info": {
   "codemirror_mode": {
    "name": "ipython",
    "version": 3
   },
   "file_extension": ".py",
   "mimetype": "text/x-python",
   "name": "python",
   "nbconvert_exporter": "python",
   "pygments_lexer": "ipython3",
   "version": "3.11.5"
  }
 },
 "nbformat": 4,
 "nbformat_minor": 5
}
