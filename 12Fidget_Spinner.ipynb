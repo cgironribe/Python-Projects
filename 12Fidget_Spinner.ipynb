{
 "cells": [
  {
   "cell_type": "code",
   "execution_count": 2,
   "id": "43fcb48b",
   "metadata": {},
   "outputs": [],
   "source": [
    "from turtle import *"
   ]
  },
  {
   "cell_type": "code",
   "execution_count": 3,
   "id": "094c530b",
   "metadata": {},
   "outputs": [],
   "source": [
    "speed(0)\n",
    "bgcolor('lightgray')\n",
    "title('Fidget Spinner Game')\n",
    "\n",
    "spinner_radius = 250  # Increased radius\n",
    "spinner_speed = 0\n",
    "spinner_colors = ['red', 'green', 'blue']"
   ]
  },
  {
   "cell_type": "code",
   "execution_count": 4,
   "id": "844758a7",
   "metadata": {},
   "outputs": [],
   "source": [
    "def create_spinner():\n",
    "    penup()\n",
    "    goto(0, 0)  # Center the spinner\n",
    "    pendown()\n",
    "\n",
    "    for color in spinner_colors:\n",
    "        fillcolor(color)\n",
    "        begin_fill()\n",
    "        circle(spinner_radius/len(spinner_colors))\n",
    "        end_fill()\n",
    "        right(360 / len(spinner_colors))"
   ]
  },
  {
   "cell_type": "code",
   "execution_count": 6,
   "id": "30886cf6",
   "metadata": {},
   "outputs": [
    {
     "ename": "Terminator",
     "evalue": "",
     "output_type": "error",
     "traceback": [
      "\u001b[1;31m---------------------------------------------------------------------------\u001b[0m",
      "\u001b[1;31mTerminator\u001b[0m                                Traceback (most recent call last)",
      "Cell \u001b[1;32mIn[6], line 32\u001b[0m\n\u001b[0;32m     29\u001b[0m     done()\n\u001b[0;32m     31\u001b[0m \u001b[38;5;28;01mif\u001b[39;00m \u001b[38;5;18m__name__\u001b[39m \u001b[38;5;241m==\u001b[39m \u001b[38;5;124m\"\u001b[39m\u001b[38;5;124m__main__\u001b[39m\u001b[38;5;124m\"\u001b[39m:\n\u001b[1;32m---> 32\u001b[0m     main()\n",
      "Cell \u001b[1;32mIn[6], line 18\u001b[0m, in \u001b[0;36mmain\u001b[1;34m()\u001b[0m\n\u001b[0;32m     17\u001b[0m \u001b[38;5;28;01mdef\u001b[39;00m \u001b[38;5;21mmain\u001b[39m():\n\u001b[1;32m---> 18\u001b[0m     setup(\u001b[38;5;241m600\u001b[39m, \u001b[38;5;241m600\u001b[39m)\n\u001b[0;32m     19\u001b[0m     hideturtle()\n\u001b[0;32m     20\u001b[0m     tracer(\u001b[38;5;28;01mFalse\u001b[39;00m)\n",
      "File \u001b[1;32m<string>:5\u001b[0m, in \u001b[0;36msetup\u001b[1;34m(width, height, startx, starty)\u001b[0m\n",
      "\u001b[1;31mTerminator\u001b[0m: "
     ]
    }
   ],
   "source": [
    "def spin_spinner(x, y):\n",
    "    global spinner_speed\n",
    "    spinner_speed += 10\n",
    "\n",
    "def stop_spinner(x, y):\n",
    "    global spinner_speed\n",
    "    spinner_speed = max(0, spinner_speed - 5)\n",
    "\n",
    "def animate_spinner():\n",
    "    global spinner_speed\n",
    "    clear()\n",
    "    create_spinner()\n",
    "    right(spinner_speed)\n",
    "    update()\n",
    "    ontimer(animate_spinner, 20)\n",
    "\n",
    "def main():\n",
    "    setup(600, 600)\n",
    "    hideturtle()\n",
    "    tracer(False)\n",
    "    \n",
    "    create_spinner()\n",
    "\n",
    "    onscreenclick(spin_spinner, 1)\n",
    "    onscreenclick(stop_spinner, 3)\n",
    "\n",
    "    animate_spinner()\n",
    "\n",
    "    done()\n",
    "\n",
    "if __name__ == \"__main__\":\n",
    "    main()"
   ]
  },
  {
   "cell_type": "code",
   "execution_count": null,
   "id": "66e84884",
   "metadata": {},
   "outputs": [],
   "source": []
  }
 ],
 "metadata": {
  "kernelspec": {
   "display_name": "Python 3 (ipykernel)",
   "language": "python",
   "name": "python3"
  },
  "language_info": {
   "codemirror_mode": {
    "name": "ipython",
    "version": 3
   },
   "file_extension": ".py",
   "mimetype": "text/x-python",
   "name": "python",
   "nbconvert_exporter": "python",
   "pygments_lexer": "ipython3",
   "version": "3.11.5"
  }
 },
 "nbformat": 4,
 "nbformat_minor": 5
}
